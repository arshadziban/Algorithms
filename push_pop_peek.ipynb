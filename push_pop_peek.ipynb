{
 "cells": [
  {
   "cell_type": "code",
   "execution_count": 2,
   "metadata": {},
   "outputs": [],
   "source": [
    "MAX_SIZE = 5\n",
    "stack = [None] * MAX_SIZE  \n",
    "top = -1"
   ]
  },
  {
   "cell_type": "code",
   "execution_count": 3,
   "metadata": {},
   "outputs": [],
   "source": [
    "# Push operation\n",
    "def push(element):\n",
    "    global top\n",
    "    if top >= MAX_SIZE - 1:\n",
    "        print(\"Stack Overflow\")\n",
    "        return\n",
    "    top += 1\n",
    "    stack[top] = element"
   ]
  },
  {
   "cell_type": "code",
   "execution_count": 4,
   "metadata": {},
   "outputs": [],
   "source": [
    "# Pop operation\n",
    "def pop():\n",
    "    global top\n",
    "    if top == -1:\n",
    "        print(\"Stack Underflow\")\n",
    "        return None\n",
    "    element = stack[top]  \n",
    "    stack[top] = None\n",
    "    top -= 1\n",
    "    return element"
   ]
  },
  {
   "cell_type": "code",
   "execution_count": 5,
   "metadata": {},
   "outputs": [],
   "source": [
    "# Peek operation\n",
    "def peek():\n",
    "    if top == -1:\n",
    "        print(\"Stack is Empty\")\n",
    "        return None\n",
    "    return stack[top]"
   ]
  },
  {
   "cell_type": "code",
   "execution_count": 7,
   "metadata": {},
   "outputs": [
    {
     "name": "stdout",
     "output_type": "stream",
     "text": [
      "30\n",
      "30\n",
      "20\n",
      "10\n",
      "Stack Underflow\n",
      "None\n"
     ]
    }
   ],
   "source": [
    "# Example usage\n",
    "push(10)\n",
    "push(20)\n",
    "push(30)\n",
    "print(peek())  \n",
    "print(pop())  \n",
    "print(pop())   \n",
    "print(pop())  \n",
    "print(pop()) # Output: Stack Underflow"
   ]
  }
 ],
 "metadata": {
  "kernelspec": {
   "display_name": "base",
   "language": "python",
   "name": "python3"
  },
  "language_info": {
   "codemirror_mode": {
    "name": "ipython",
    "version": 3
   },
   "file_extension": ".py",
   "mimetype": "text/x-python",
   "name": "python",
   "nbconvert_exporter": "python",
   "pygments_lexer": "ipython3",
   "version": "3.12.8"
  }
 },
 "nbformat": 4,
 "nbformat_minor": 2
}
